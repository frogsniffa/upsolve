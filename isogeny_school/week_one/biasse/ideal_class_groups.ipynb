{
 "cells": [
  {
   "cell_type": "markdown",
   "id": "65452f9f",
   "metadata": {},
   "source": [
    "Once in interactive mode, use the mouse to click or highlight a block. Then use the \"run\" button on top or \"shift + enter\" to execute the block.\n",
    "\n",
    "To make a new block click on one of the horizontal bars. Here you can add Sage code or type in comments.\n",
    "\n",
    "In the following worksheet we demonstrate how to compute the class group of a quadratic field as well as decompose ideals over a set of generators for the class group."
   ]
  },
  {
   "cell_type": "code",
   "execution_count": 1,
   "id": "10f982a4",
   "metadata": {
    "ExecuteTime": {
     "end_time": "2023-10-15T07:47:46.875798Z",
     "start_time": "2023-10-15T07:47:46.081088Z"
    }
   },
   "outputs": [
    {
     "data": {
      "text/plain": [
       "Number Field in a with defining polynomial x^2 + 1363 with a = 36.91882988394947?*I"
      ]
     },
     "execution_count": 1,
     "metadata": {},
     "output_type": "execute_result"
    }
   ],
   "source": [
    "# In the following, consider the quadratic field with fundamental discriminant -1363.\n",
    "D = -1363\n",
    "K = QuadraticField(D)\n",
    "K"
   ]
  },
  {
   "cell_type": "code",
   "execution_count": 2,
   "id": "64903172",
   "metadata": {
    "ExecuteTime": {
     "end_time": "2023-10-15T07:47:55.830694Z",
     "start_time": "2023-10-15T07:47:55.808756Z"
    }
   },
   "outputs": [
    {
     "data": {
      "text/plain": [
       "-1363"
      ]
     },
     "execution_count": 2,
     "metadata": {},
     "output_type": "execute_result"
    }
   ],
   "source": [
    "# Ideal classes of O_K can be represented with reduced quadratic forms of discriminant -1363.\n",
    "\n",
    "f = BinaryQF([7, 3, 49])\n",
    "f.is_reduced()\n",
    "f.discriminant()    # verify the form has the right discriminant"
   ]
  },
  {
   "cell_type": "code",
   "execution_count": 3,
   "id": "788c8f01",
   "metadata": {
    "ExecuteTime": {
     "end_time": "2023-10-15T07:48:05.298525Z",
     "start_time": "2023-10-15T07:48:05.241552Z"
    }
   },
   "outputs": [
    {
     "data": {
      "text/plain": [
       "7*x^2 - 3*x*y + 49*y^2"
      ]
     },
     "execution_count": 3,
     "metadata": {},
     "output_type": "execute_result"
    }
   ],
   "source": [
    "# Composition of forms is denoted by multiplication, but the result is not necessarily reduced.\n",
    "\n",
    "f*f\n",
    "(f*f).reduced_form()"
   ]
  },
  {
   "cell_type": "code",
   "execution_count": 4,
   "id": "d638f54f",
   "metadata": {
    "ExecuteTime": {
     "end_time": "2023-10-15T07:48:12.424743Z",
     "start_time": "2023-10-15T07:48:12.405225Z"
    }
   },
   "outputs": [
    {
     "data": {
      "text/plain": [
       "x^2 + x*y + 341*y^2"
      ]
     },
     "execution_count": 4,
     "metadata": {},
     "output_type": "execute_result"
    }
   ],
   "source": [
    "# If f = (a, b, c) is a reduced form, then its inverse is (a, -b, c)\n",
    "\n",
    "g = BinaryQF([7, -3, 49])\n",
    "g.is_reduced()\n",
    "\n",
    "I = f*g\n",
    "I.reduced_form()"
   ]
  },
  {
   "cell_type": "code",
   "execution_count": 5,
   "id": "daef94ed",
   "metadata": {
    "ExecuteTime": {
     "end_time": "2023-10-15T07:48:18.816414Z",
     "start_time": "2023-10-15T07:48:18.774872Z"
    }
   },
   "outputs": [
    {
     "data": {
      "text/plain": [
       "23"
      ]
     },
     "execution_count": 5,
     "metadata": {},
     "output_type": "execute_result"
    }
   ],
   "source": [
    "# The split prime ideals of K with norm less than Minkowski's bound generate the class group of K.\n",
    "B = floor(K.minkowski_bound())\n",
    "B"
   ]
  },
  {
   "cell_type": "markdown",
   "id": "9f8eaf7f",
   "metadata": {},
   "source": [
    "Q1. What are the ramified primes of K? Why do we not need to consider them when computing the class group?\n",
    "\n",
    "They are $29$ and $47$ because $x^2+1363\\bmod{29}$ and $x^2+1363\\bmod{47}$ are equivalent to $x^2$, which has roots of multiplicity > 1. We cannot generate the prime ideals of a class group efficiently with ramified primes. It is possible that ramified primes generate only one prime ideal but it is guaranteed that split primes generate at least two ideals. Lecture 2 Example 1 shows how to generate prime ideals.\n",
    "\n",
    "Q2. What is the ideal class of an inert prime? Why do we not need to consider them when computing the class group?\n",
    "\n",
    "They are the set of integers $y$ satisfying \"$x^2+1363\\bmod{y}$ is irreducible\" for $y\\in\\mathbb{Z}_{p}$. We cannot generate the prime ideals of a class group efficiently with inert primes. Inert primes generate one prime ideal only."
   ]
  },
  {
   "cell_type": "code",
   "execution_count": 6,
   "id": "52faf7f4",
   "metadata": {},
   "outputs": [],
   "source": [
    "P = Primes()\n",
    "p = P.first()\n",
    "ramifieds = []\n",
    "inerts = []\n",
    "splits = []\n",
    "while p < 1363:\n",
    "    if 1363 % p == 0:\n",
    "        ramifieds.append(p)\n",
    "    else:\n",
    "        R.<x> = GF(p)[]\n",
    "        f = x**2 + 1363\n",
    "        if f.is_irreducible() or p == 2: # (x^2+1363) mod 2 = (x^2+1) mod 2 = (x+1)^2 mod 2. without mod 2, is irreducible\n",
    "            inerts.append(p)\n",
    "        else:\n",
    "            splits.append(p)\n",
    "    p = P.next(p)\n",
    "\n",
    "# check work\n",
    "# https://ask.sagemath.org/question/8349/splitting-of-primes/\n",
    "D = -1363\n",
    "K = QuadraticField(D)\n",
    "ramifieds1 = [x[0] for x in list(K.discriminant().factor())]\n",
    "is_split = lambda F, x: sum([t[1] for t in list(F.factor(x))]) > 1\n",
    "splits1 = []\n",
    "inerts1 = []\n",
    "for x in range(1363):\n",
    "    if x in ramifieds1:\n",
    "        continue\n",
    "    if is_prime(x):\n",
    "        if is_split(K, x):\n",
    "            splits1.append(x)\n",
    "        else:\n",
    "            inerts1.append(x)\n",
    "assert ramifieds == ramifieds1\n",
    "assert splits == splits1\n",
    "assert inerts == inerts1"
   ]
  },
  {
   "cell_type": "code",
   "execution_count": 7,
   "id": "84f57271",
   "metadata": {
    "ExecuteTime": {
     "end_time": "2023-10-15T07:48:45.049962Z",
     "start_time": "2023-10-15T07:48:45.022776Z"
    }
   },
   "outputs": [
    {
     "name": "stdout",
     "output_type": "stream",
     "text": [
      "7 3 49\n"
     ]
    },
    {
     "data": {
      "text/plain": [
       "-1363"
      ]
     },
     "execution_count": 7,
     "metadata": {},
     "output_type": "execute_result"
    }
   ],
   "source": [
    "# We can construct the forms corresponding to reduced prime ideals. This is the prime form above 7, with its conjugate given by its inverse.\n",
    "\n",
    "p = 7\n",
    "R = Integers(2*p)\n",
    "\n",
    "a = p\n",
    "b = int(sqrt(R(D)))        # square root of D mod 7\n",
    "c = (b^2 - D)/(4*a)\n",
    "\n",
    "f = BinaryQF([a, b, c])\n",
    "print(a, b, c)\n",
    "f = f.reduced_form()\n",
    "f\n",
    "\n",
    "f.discriminant()"
   ]
  },
  {
   "cell_type": "markdown",
   "id": "4d1a5d1c",
   "metadata": {},
   "source": [
    "Q4. Find the binary quadratic forms f1, f2, ..., fn corresponding to the split prime ideals with norm less than B.\n",
    "\n",
    "According to the below calculations, the binary quadratic forms are:\n",
    "\n",
    "1. $7*x^2 + 3*x*y + 49*y^2$\n",
    "2. $11*x^2 + x*y + 31*y^2$\n",
    "3. $19*x^2 + 9*x*y + 19*y^2$"
   ]
  },
  {
   "cell_type": "code",
   "execution_count": 8,
   "id": "e5ad9005",
   "metadata": {},
   "outputs": [
    {
     "name": "stdout",
     "output_type": "stream",
     "text": [
      "[7, 11, 19]\n",
      "7*x^2 + 3*x*y + 49*y^2\n",
      "11*x^2 + x*y + 31*y^2\n",
      "19*x^2 + 9*x*y + 19*y^2\n"
     ]
    }
   ],
   "source": [
    "reduced_splits = [split_ for split_ in splits if split_ < B]\n",
    "print(reduced_splits)\n",
    "\n",
    "def get_quadratic_form(p):\n",
    "    R = Integers(2*p)\n",
    "\n",
    "    a = p\n",
    "    b = int(sqrt(R(D)))\n",
    "    c = (b^2 - D)/(4*a)\n",
    "\n",
    "    return a, b, c\n",
    "\n",
    "f1 = BinaryQF(get_quadratic_form(7)).reduced_form()\n",
    "f2 = BinaryQF(get_quadratic_form(11)).reduced_form()\n",
    "f3 = BinaryQF(get_quadratic_form(19)).reduced_form()\n",
    "\n",
    "print(f1)\n",
    "print(f2)\n",
    "print(f3)"
   ]
  },
  {
   "cell_type": "code",
   "execution_count": 9,
   "id": "931d1a5b",
   "metadata": {
    "ExecuteTime": {
     "end_time": "2023-10-15T07:49:03.785638Z",
     "start_time": "2023-10-15T07:49:03.764719Z"
    }
   },
   "outputs": [
    {
     "data": {
      "text/plain": [
       "True"
      ]
     },
     "execution_count": 9,
     "metadata": {},
     "output_type": "execute_result"
    }
   ],
   "source": [
    "# We now need relations of the form f1^x1 * f2^x2 * ... * fn^xn = I = (1, 1, 341).\n",
    "# Since exponentiation of forms is not natively supported here is a (not efficient) function to help:\n",
    "\n",
    "id = BinaryQF([1, 1, 341])\n",
    "\n",
    "def inv(f):\n",
    "    g = f.reduced_form()\n",
    "    return BinaryQF([g[0], -g[1], g[2]]).reduced_form()\n",
    "\n",
    "def ex(f, n):\n",
    "    g = id\n",
    "    for i in range(abs(n)):\n",
    "        g *= f\n",
    "    g = g.reduced_form()\n",
    "    if n < 0:\n",
    "        g = inv(g)\n",
    "    return g\n",
    "\n",
    "inv(f)\n",
    "ex(f, 2) == (f * f).reduced_form()"
   ]
  },
  {
   "cell_type": "markdown",
   "id": "99e087b4",
   "metadata": {},
   "source": [
    "Q5. Write a function that generates n random numbers in [-10, 10]. Look for relations of the form f1^x1 * f2^x2 * ... * fn^xn = I = (1, 1, 341).\n",
    "\n",
    "One such relation that satisfies this is $x_1=-5, x_2=2, x_3=3$."
   ]
  },
  {
   "cell_type": "code",
   "execution_count": 10,
   "id": "6ac7c781",
   "metadata": {
    "ExecuteTime": {
     "end_time": "2023-10-15T07:49:44.068753Z",
     "start_time": "2023-10-15T07:49:44.042366Z"
    }
   },
   "outputs": [
    {
     "data": {
      "text/plain": [
       "[1 2 4]\n",
       "[5 4 1]\n",
       "[2 4 3]\n",
       "[5 6 7]"
      ]
     },
     "execution_count": 10,
     "metadata": {},
     "output_type": "execute_result"
    }
   ],
   "source": [
    "# Here is a simple example of working with matrices in Sage, especially adding rows to a matrix:\n",
    "\n",
    "M = matrix([[1, 2, 4], [5, 4, 1], [2, 4, 3]])\n",
    "\n",
    "rows = M.rows()\n",
    "rows += [(5, 6, 7)]\n",
    "\n",
    "matrix(rows)"
   ]
  },
  {
   "cell_type": "code",
   "execution_count": 11,
   "id": "8c12cc35",
   "metadata": {},
   "outputs": [
    {
     "name": "stdout",
     "output_type": "stream",
     "text": [
      "-9 6 8\n"
     ]
    }
   ],
   "source": [
    "while True:\n",
    "    x1 = randint(-10, 10)\n",
    "    x2 = randint(-10, 10)\n",
    "    x3 = randint(-10, 10)\n",
    "    if ex(f1, x1) * ex(f2, x2) * ex(f3, x3) == id:\n",
    "        print(x1, x2, x3)\n",
    "        break"
   ]
  },
  {
   "cell_type": "markdown",
   "id": "00dff755",
   "metadata": {},
   "source": [
    "Q6. Construct the matrix with row vectors given by (x1, x2, ..., xn). Continue searching for relations as in Q5 until the matrix has full rank.\n",
    "\n",
    "See matrix result below"
   ]
  },
  {
   "cell_type": "code",
   "execution_count": 12,
   "id": "516b2df1",
   "metadata": {},
   "outputs": [
    {
     "name": "stdout",
     "output_type": "stream",
     "text": [
      "[ -4   4   2]\n",
      "[  9   0  -4]\n",
      "[  4 -10   6]\n",
      "[  8  10 -10]\n",
      "[  4   2   4]\n",
      "[  7   8  -6]\n",
      "[  9   6   4]\n",
      "[  6   0   4]\n",
      "[-10  -8 -10]\n",
      "[  6   6   2]\n",
      "[  2   4   4]\n",
      "[ -4   4  -6]\n",
      "[ -6  -6   2]\n"
     ]
    }
   ],
   "source": [
    "m = []\n",
    "\n",
    "# don't trust M.rank() == 3 or M.rank().transpose() == 3 or M.determinant() != 0\n",
    "# the hermite form would still differ after running twice\n",
    "while len(m) <= 12:\n",
    "    x1 = randint(-10, 10)\n",
    "    x2 = randint(-10, 10)\n",
    "    x3 = randint(-10, 10)\n",
    "    if ex(f1, x1) * ex(f2, x2) * ex(f3, x3) == id:\n",
    "        m.append([x1, x2, x3])\n",
    "        M = matrix(m)\n",
    "\n",
    "print(M)"
   ]
  },
  {
   "cell_type": "code",
   "execution_count": 13,
   "id": "6fdca111",
   "metadata": {
    "ExecuteTime": {
     "end_time": "2023-10-15T07:50:10.169497Z",
     "start_time": "2023-10-15T07:50:10.136650Z"
    }
   },
   "outputs": [
    {
     "name": "stdout",
     "output_type": "stream",
     "text": [
      "[1 2 0]\n",
      "[0 6 0]\n",
      "[0 0 2]\n",
      "[0 0 0]\n",
      "[0 0 0]\n",
      "[0 0 0]\n",
      "[0 0 0]\n",
      "[0 0 0]\n",
      "[0 0 0]\n",
      "[0 0 0]\n",
      "[0 0 0]\n",
      "[0 0 0]\n",
      "[0 0 0]\n"
     ]
    }
   ],
   "source": [
    "# Recall that the Hermite normal form of this matrix gives the structure of the class group of K.\n",
    "# We can create the (upper triangular!) HNF by:\n",
    "\n",
    "M = M.hermite_form()\n",
    "print(M)\n",
    "\n",
    "# and the Smith normal form by:\n",
    "\n",
    "H, U, V = M.smith_form()"
   ]
  },
  {
   "cell_type": "markdown",
   "id": "d62a44c8",
   "metadata": {},
   "source": [
    "Q7. What is the structure of the class group? (Hint: the class number is less than 12. If you still aren't there, try adding more relations.)\n",
    "\n",
    "The structure is\n",
    "\t$$\n",
    "\t\\begin{bmatrix} \n",
    "\t1 & 2 & 0 \\\\\n",
    "\t0 & 6 & 0 \\\\\n",
    "\t0 & 0 & 2 \\\\\n",
    "\t\\end{bmatrix}\n",
    "\t\\quad\n",
    "\t$$\n",
    "\n",
    "Q8. Find elements of each possible order in the class group (hint: see page 3 of lecture 7).\n",
    "\n",
    "The elements of each possible order in the group are\n",
    "\n",
    "1. $x^2 + x*y + 341*y^2$\n",
    "2. $19*x^2 + 9*x*y + 19*y^2$\n",
    "3. $7*x^2 - 3*x*y + 49*y^2$\n",
    "\n",
    "Q9. Decompose the quadratic form (7, 3, 49) over the generators of the class group (hint: can be solved by inspection).\n",
    "\n",
    "One example is ${g_0}^0 * {g_1}^0 * {g_2}^1$\n",
    "\n",
    "Q10. The class group is cyclic, so from Q8 we should have one generator of order equal to the class number, call it g. For the prime forms f above 7, 11, and 19, solve the discrete log problem f = g^x.\n",
    "\n",
    "7 and 11 don't have a solution. For 19, $x = 3$."
   ]
  },
  {
   "cell_type": "code",
   "execution_count": 14,
   "id": "4b7386bc",
   "metadata": {},
   "outputs": [
    {
     "name": "stdout",
     "output_type": "stream",
     "text": [
      "x^2 + x*y + 341*y^2\n",
      "19*x^2 + 9*x*y + 19*y^2\n",
      "7*x^2 - 3*x*y + 49*y^2\n"
     ]
    }
   ],
   "source": [
    "generators = V^-1\n",
    "g0 = ex(f1, generators[0][0]) * ex(f2, generators[0][1]) * ex(f3, generators[0][2])\n",
    "g1 = ex(f1, generators[1][0]) * ex(f2, generators[1][1]) * ex(f3, generators[1][2])\n",
    "g2 = ex(f1, generators[2][0]) * ex(f2, generators[2][1]) * ex(f3, generators[2][2])\n",
    "g0 = g0.reduced_form()\n",
    "g1 = g1.reduced_form()\n",
    "g2 = g2.reduced_form()\n",
    "print(g0)\n",
    "print(g1)\n",
    "print(g2)"
   ]
  },
  {
   "cell_type": "code",
   "execution_count": 15,
   "id": "b0ea5da6",
   "metadata": {},
   "outputs": [
    {
     "name": "stdout",
     "output_type": "stream",
     "text": [
      "f3 3\n"
     ]
    }
   ],
   "source": [
    "assert ex(g1, 3) == g1\n",
    "\n",
    "stopf1 = False\n",
    "stopf2 = False\n",
    "stopf3 = False\n",
    "for i in range(2, 11):\n",
    "    if ex(g1, i) == f1 and not stopf1:\n",
    "        print(\"f1\", i)\n",
    "        stopf1 = True\n",
    "    elif ex(g1, i) == f2 and not stopf2:\n",
    "        print(\"f2\", i)\n",
    "        stopf2 = True\n",
    "    elif ex(g1, i) == f3 and not stopf3:\n",
    "        print(\"f3\", i)\n",
    "        stopf3 = True"
   ]
  }
 ],
 "metadata": {
  "kernelspec": {
   "display_name": "SageMath 9.5",
   "language": "sage",
   "name": "sagemath"
  },
  "language_info": {
   "codemirror_mode": {
    "name": "ipython",
    "version": 3
   },
   "file_extension": ".py",
   "mimetype": "text/x-python",
   "name": "python",
   "nbconvert_exporter": "python",
   "pygments_lexer": "ipython3",
   "version": "3.10.12"
  },
  "varInspector": {
   "cols": {
    "lenName": 16,
    "lenType": 16,
    "lenVar": 40
   },
   "kernels_config": {
    "python": {
     "delete_cmd_postfix": "",
     "delete_cmd_prefix": "del ",
     "library": "var_list.py",
     "varRefreshCmd": "print(var_dic_list())"
    },
    "r": {
     "delete_cmd_postfix": ") ",
     "delete_cmd_prefix": "rm(",
     "library": "var_list.r",
     "varRefreshCmd": "cat(var_dic_list()) "
    }
   },
   "types_to_exclude": [
    "module",
    "function",
    "builtin_function_or_method",
    "instance",
    "_Feature"
   ],
   "window_display": false
  }
 },
 "nbformat": 4,
 "nbformat_minor": 5
}
